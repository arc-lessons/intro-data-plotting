{
  "cells": [
    {
      "metadata": {
        "collapsed": true
      },
      "cell_type": "markdown",
      "source": "# Reading a file with pandas"
    },
    {
      "metadata": {},
      "cell_type": "markdown",
      "source": "## Overview\n- **Teaching:** 10 min\n- **Exercises:** 5 min\n\n**Questions**\n* How can I read my data file into pandas?\n\n**Objectives**\n* Use pandas to read in a CSV file.\n"
    },
    {
      "metadata": {},
      "cell_type": "markdown",
      "source": "One of the most common situations is that you have some data file containing the data you want to read. Perhaps this is data you've produced yourself or maybe it's from a collegue. In an ideal world the file will be perfectly formatted and will be trivial to import into pandas but since this is so often not the case, it provides a number of features to make your ife easier.\n\nFull information on reading and writing is available in the pandas manual on [IO tools](http://pandas.pydata.org/pandas-docs/stable/io.html) but first it's worth noting the common formats that pandas can work with:\n- Comma separated tables (or tab-separated or space-separated etc.)\n- Excel spreadsheets\n- HDF5 files\n- SQL databases\n\nFor this lesson we will focus on plain-text CSV files as they are perhaps the most common format. Imagine we have a CSV file like (if you are not running on notebooks.azure.com you will need to download this file from [city_pop.csv](../data/city_pop.csv)):"
    },
    {
      "metadata": {
        "trusted": false
      },
      "cell_type": "code",
      "source": "!cat ../data/city_pop.csv  # Uses the IPython 'magic' !cat to print the file",
      "execution_count": 1,
      "outputs": [
        {
          "name": "stdout",
          "output_type": "stream",
          "text": "This is an example CSV file\r\nThe text at the top here is not part of the data but instead is here\r\nto describe the file. You'll see this quite often in real-world data.\r\nA -1 signifies a missing value.\r\n\r\nyear;London;Paris;Rome\r\n2001;7.322;2.148;2.547\r\n2006;7.652;;2.627\r\n2008;-1;2.211;\r\n2009;-1;2.234;2.734\r\n2011;8.174;;\r\n2012;-1;2.244;2.627\r\n2015;8.615;;\r\n"
        }
      ]
    },
    {
      "metadata": {},
      "cell_type": "markdown",
      "source": "We can use the pandas function `read_csv()` to read the file and convert it to a `DataFrame`. Full documentation for this function can be found in [the manual](http://pandas.pydata.org/pandas-docs/stable/generated/pandas.read_csv.html) or, as with any Python object, directly in the notebook by typing `help(pd.read_csv)`."
    },
    {
      "metadata": {
        "trusted": false
      },
      "cell_type": "code",
      "source": "import pandas as pd\n\ncsv_file = '../data/city_pop.csv'\npd.read_csv(csv_file)",
      "execution_count": 4,
      "outputs": [
        {
          "data": {
            "text/html": "<div>\n<style scoped>\n    .dataframe tbody tr th:only-of-type {\n        vertical-align: middle;\n    }\n\n    .dataframe tbody tr th {\n        vertical-align: top;\n    }\n\n    .dataframe thead th {\n        text-align: right;\n    }\n</style>\n<table border=\"1\" class=\"dataframe\">\n  <thead>\n    <tr style=\"text-align: right;\">\n      <th></th>\n      <th>This is an example CSV file</th>\n    </tr>\n  </thead>\n  <tbody>\n    <tr>\n      <th>0</th>\n      <td>The text at the top here is not part of the da...</td>\n    </tr>\n    <tr>\n      <th>1</th>\n      <td>to describe the file. You'll see this quite of...</td>\n    </tr>\n    <tr>\n      <th>2</th>\n      <td>A -1 signifies a missing value.</td>\n    </tr>\n    <tr>\n      <th>3</th>\n      <td>year;London;Paris;Rome</td>\n    </tr>\n    <tr>\n      <th>4</th>\n      <td>2001;7.322;2.148;2.547</td>\n    </tr>\n    <tr>\n      <th>5</th>\n      <td>2006;7.652;;2.627</td>\n    </tr>\n    <tr>\n      <th>6</th>\n      <td>2008;-1;2.211;</td>\n    </tr>\n    <tr>\n      <th>7</th>\n      <td>2009;-1;2.234;2.734</td>\n    </tr>\n    <tr>\n      <th>8</th>\n      <td>2011;8.174;;</td>\n    </tr>\n    <tr>\n      <th>9</th>\n      <td>2012;-1;2.244;2.627</td>\n    </tr>\n    <tr>\n      <th>10</th>\n      <td>2015;8.615;;</td>\n    </tr>\n  </tbody>\n</table>\n</div>",
            "text/plain": "                          This is an example CSV file\n0   The text at the top here is not part of the da...\n1   to describe the file. You'll see this quite of...\n2                     A -1 signifies a missing value.\n3                              year;London;Paris;Rome\n4                              2001;7.322;2.148;2.547\n5                                   2006;7.652;;2.627\n6                                      2008;-1;2.211;\n7                                 2009;-1;2.234;2.734\n8                                        2011;8.174;;\n9                                 2012;-1;2.244;2.627\n10                                       2015;8.615;;"
          },
          "execution_count": 4,
          "metadata": {},
          "output_type": "execute_result"
        }
      ]
    },
    {
      "metadata": {},
      "cell_type": "markdown",
      "source": "We can see that by default it's done a fairly bad job of parsing the file (this is mostly because it has been construsted to be as obtuse as possible). It's making a lot of assumptions about the structure of the file but in general it's taking quite a naïve approach.\n\nThe first this we notice is that it's treating the text at the top of the file as though it's data. Checking [the documentation](http://pandas.pydata.org/pandas-docs/stable/generated/pandas.read_csv.html) we see that the simplest way to solve this is to use the `skiprows` argument to the function to which we give an integer giving the number of rows to skip:"
    },
    {
      "metadata": {
        "trusted": false
      },
      "cell_type": "code",
      "source": "pd.read_csv(csv_file,\n            skiprows=5,\n            )",
      "execution_count": 6,
      "outputs": [
        {
          "data": {
            "text/html": "<div>\n<style scoped>\n    .dataframe tbody tr th:only-of-type {\n        vertical-align: middle;\n    }\n\n    .dataframe tbody tr th {\n        vertical-align: top;\n    }\n\n    .dataframe thead th {\n        text-align: right;\n    }\n</style>\n<table border=\"1\" class=\"dataframe\">\n  <thead>\n    <tr style=\"text-align: right;\">\n      <th></th>\n      <th>year;London;Paris;Rome</th>\n    </tr>\n  </thead>\n  <tbody>\n    <tr>\n      <th>0</th>\n      <td>2001;7.322;2.148;2.547</td>\n    </tr>\n    <tr>\n      <th>1</th>\n      <td>2006;7.652;;2.627</td>\n    </tr>\n    <tr>\n      <th>2</th>\n      <td>2008;-1;2.211;</td>\n    </tr>\n    <tr>\n      <th>3</th>\n      <td>2009;-1;2.234;2.734</td>\n    </tr>\n    <tr>\n      <th>4</th>\n      <td>2011;8.174;;</td>\n    </tr>\n    <tr>\n      <th>5</th>\n      <td>2012;-1;2.244;2.627</td>\n    </tr>\n    <tr>\n      <th>6</th>\n      <td>2015;8.615;;</td>\n    </tr>\n  </tbody>\n</table>\n</div>",
            "text/plain": "   year;London;Paris;Rome\n0  2001;7.322;2.148;2.547\n1       2006;7.652;;2.627\n2          2008;-1;2.211;\n3     2009;-1;2.234;2.734\n4            2011;8.174;;\n5     2012;-1;2.244;2.627\n6            2015;8.615;;"
          },
          "execution_count": 6,
          "metadata": {},
          "output_type": "execute_result"
        }
      ]
    },
    {
      "metadata": {},
      "cell_type": "markdown",
      "source": "## Info: Editing cells\nIf you are following along with this material in a notebook, don't forget you can edit a cell and execute it again.\nIn this lesson, you can just keep modifying the input to the `read_csv()` function and re-execute the cell, rather than making a new cell for each modification."
    },
    {
      "metadata": {},
      "cell_type": "markdown",
      "source": "The next most obvious problem is that it is not separating the columns at all. This is controlled by the `sep` argument which is set to `','` by default (hence *comma* separated values). We can simply set it to the appropriate semi-colon:"
    },
    {
      "metadata": {
        "trusted": false
      },
      "cell_type": "code",
      "source": "pd.read_csv(csv_file,\n            skiprows=5,\n            sep=';'\n           )",
      "execution_count": 7,
      "outputs": [
        {
          "data": {
            "text/html": "<div>\n<style scoped>\n    .dataframe tbody tr th:only-of-type {\n        vertical-align: middle;\n    }\n\n    .dataframe tbody tr th {\n        vertical-align: top;\n    }\n\n    .dataframe thead th {\n        text-align: right;\n    }\n</style>\n<table border=\"1\" class=\"dataframe\">\n  <thead>\n    <tr style=\"text-align: right;\">\n      <th></th>\n      <th>year</th>\n      <th>London</th>\n      <th>Paris</th>\n      <th>Rome</th>\n    </tr>\n  </thead>\n  <tbody>\n    <tr>\n      <th>0</th>\n      <td>2001</td>\n      <td>7.322</td>\n      <td>2.148</td>\n      <td>2.547</td>\n    </tr>\n    <tr>\n      <th>1</th>\n      <td>2006</td>\n      <td>7.652</td>\n      <td>NaN</td>\n      <td>2.627</td>\n    </tr>\n    <tr>\n      <th>2</th>\n      <td>2008</td>\n      <td>-1.000</td>\n      <td>2.211</td>\n      <td>NaN</td>\n    </tr>\n    <tr>\n      <th>3</th>\n      <td>2009</td>\n      <td>-1.000</td>\n      <td>2.234</td>\n      <td>2.734</td>\n    </tr>\n    <tr>\n      <th>4</th>\n      <td>2011</td>\n      <td>8.174</td>\n      <td>NaN</td>\n      <td>NaN</td>\n    </tr>\n    <tr>\n      <th>5</th>\n      <td>2012</td>\n      <td>-1.000</td>\n      <td>2.244</td>\n      <td>2.627</td>\n    </tr>\n    <tr>\n      <th>6</th>\n      <td>2015</td>\n      <td>8.615</td>\n      <td>NaN</td>\n      <td>NaN</td>\n    </tr>\n  </tbody>\n</table>\n</div>",
            "text/plain": "   year  London  Paris   Rome\n0  2001   7.322  2.148  2.547\n1  2006   7.652    NaN  2.627\n2  2008  -1.000  2.211    NaN\n3  2009  -1.000  2.234  2.734\n4  2011   8.174    NaN    NaN\n5  2012  -1.000  2.244  2.627\n6  2015   8.615    NaN    NaN"
          },
          "execution_count": 7,
          "metadata": {},
          "output_type": "execute_result"
        }
      ]
    },
    {
      "metadata": {},
      "cell_type": "markdown",
      "source": "Reading the descriptive header of our data file we see that a value of `-1` signifies a missing reading so we should mark those too. This can be done after the fact but it is simplest to do it at import-time using the `na_values` argument:"
    },
    {
      "metadata": {
        "trusted": false
      },
      "cell_type": "code",
      "source": "pd.read_csv(csv_file,\n            skiprows=5,\n            sep=';',\n            na_values='-1'\n           )",
      "execution_count": 9,
      "outputs": [
        {
          "data": {
            "text/html": "<div>\n<style scoped>\n    .dataframe tbody tr th:only-of-type {\n        vertical-align: middle;\n    }\n\n    .dataframe tbody tr th {\n        vertical-align: top;\n    }\n\n    .dataframe thead th {\n        text-align: right;\n    }\n</style>\n<table border=\"1\" class=\"dataframe\">\n  <thead>\n    <tr style=\"text-align: right;\">\n      <th></th>\n      <th>year</th>\n      <th>London</th>\n      <th>Paris</th>\n      <th>Rome</th>\n    </tr>\n  </thead>\n  <tbody>\n    <tr>\n      <th>0</th>\n      <td>2001</td>\n      <td>7.322</td>\n      <td>2.148</td>\n      <td>2.547</td>\n    </tr>\n    <tr>\n      <th>1</th>\n      <td>2006</td>\n      <td>7.652</td>\n      <td>NaN</td>\n      <td>2.627</td>\n    </tr>\n    <tr>\n      <th>2</th>\n      <td>2008</td>\n      <td>NaN</td>\n      <td>2.211</td>\n      <td>NaN</td>\n    </tr>\n    <tr>\n      <th>3</th>\n      <td>2009</td>\n      <td>NaN</td>\n      <td>2.234</td>\n      <td>2.734</td>\n    </tr>\n    <tr>\n      <th>4</th>\n      <td>2011</td>\n      <td>8.174</td>\n      <td>NaN</td>\n      <td>NaN</td>\n    </tr>\n    <tr>\n      <th>5</th>\n      <td>2012</td>\n      <td>NaN</td>\n      <td>2.244</td>\n      <td>2.627</td>\n    </tr>\n    <tr>\n      <th>6</th>\n      <td>2015</td>\n      <td>8.615</td>\n      <td>NaN</td>\n      <td>NaN</td>\n    </tr>\n  </tbody>\n</table>\n</div>",
            "text/plain": "   year  London  Paris   Rome\n0  2001   7.322  2.148  2.547\n1  2006   7.652    NaN  2.627\n2  2008     NaN  2.211    NaN\n3  2009     NaN  2.234  2.734\n4  2011   8.174    NaN    NaN\n5  2012     NaN  2.244  2.627\n6  2015   8.615    NaN    NaN"
          },
          "execution_count": 9,
          "metadata": {},
          "output_type": "execute_result"
        }
      ]
    },
    {
      "metadata": {},
      "cell_type": "markdown",
      "source": "The last this we want to do is use the `year` column as the index for the `DataFrame`. This can be done by passing the name of the column to the `index_col` argument:"
    },
    {
      "metadata": {
        "trusted": false
      },
      "cell_type": "code",
      "source": "df3 = pd.read_csv(csv_file,\n                  skiprows=5,\n                  sep=';',\n                  na_values='-1',\n                  index_col='year'\n                 )\ndf3",
      "execution_count": 10,
      "outputs": [
        {
          "data": {
            "text/html": "<div>\n<style scoped>\n    .dataframe tbody tr th:only-of-type {\n        vertical-align: middle;\n    }\n\n    .dataframe tbody tr th {\n        vertical-align: top;\n    }\n\n    .dataframe thead th {\n        text-align: right;\n    }\n</style>\n<table border=\"1\" class=\"dataframe\">\n  <thead>\n    <tr style=\"text-align: right;\">\n      <th></th>\n      <th>London</th>\n      <th>Paris</th>\n      <th>Rome</th>\n    </tr>\n    <tr>\n      <th>year</th>\n      <th></th>\n      <th></th>\n      <th></th>\n    </tr>\n  </thead>\n  <tbody>\n    <tr>\n      <th>2001</th>\n      <td>7.322</td>\n      <td>2.148</td>\n      <td>2.547</td>\n    </tr>\n    <tr>\n      <th>2006</th>\n      <td>7.652</td>\n      <td>NaN</td>\n      <td>2.627</td>\n    </tr>\n    <tr>\n      <th>2008</th>\n      <td>NaN</td>\n      <td>2.211</td>\n      <td>NaN</td>\n    </tr>\n    <tr>\n      <th>2009</th>\n      <td>NaN</td>\n      <td>2.234</td>\n      <td>2.734</td>\n    </tr>\n    <tr>\n      <th>2011</th>\n      <td>8.174</td>\n      <td>NaN</td>\n      <td>NaN</td>\n    </tr>\n    <tr>\n      <th>2012</th>\n      <td>NaN</td>\n      <td>2.244</td>\n      <td>2.627</td>\n    </tr>\n    <tr>\n      <th>2015</th>\n      <td>8.615</td>\n      <td>NaN</td>\n      <td>NaN</td>\n    </tr>\n  </tbody>\n</table>\n</div>",
            "text/plain": "      London  Paris   Rome\nyear                      \n2001   7.322  2.148  2.547\n2006   7.652    NaN  2.627\n2008     NaN  2.211    NaN\n2009     NaN  2.234  2.734\n2011   8.174    NaN    NaN\n2012     NaN  2.244  2.627\n2015   8.615    NaN    NaN"
          },
          "execution_count": 10,
          "metadata": {},
          "output_type": "execute_result"
        }
      ]
    },
    {
      "metadata": {},
      "cell_type": "markdown",
      "source": "## Exercise: Comma separated files\n- There is another file called `cetml1659on.dat` (available from [here](../data/cetml1659on.dat)). This contains some historical weather data for a location in the UK. Import that file as a Pandas `DataFrame` using `read_csv()`, making sure that you cover all the NaN values. Be sure to look at the [documentation](http://pandas.pydata.org/pandas-docs/stable/generated/pandas.read_csv.html#pandas.read_csv) for `read_csv()`.\n- How many years had a negative average temperature in January?\n- What was the average temperature in June over the years in the data set? Tip: look in the [documentation](https://pandas.pydata.org/pandas-docs/stable/generated/pandas.Series.html) for which method to call.\n\nWe will come back to this data set at a later stage.\n\nHints for the first part:\n* The syntax for whitespace delimited data is `sep='\\s+'`, which is not immediately obvious from the documentation.\n* The data is almost comlete (which is unusual for scientific data) and there are only two invalid entries. Look at the last row of the file and, given that the data is temperature data, deduce which values need to be `na_values`. (You can use a list to give multiple `na_values`)\n* If you can't work out how to do the first part of this exercise, take a look at the solutions."
    },
    {
      "metadata": {},
      "cell_type": "markdown",
      "source": "## Solution: Comma separated files\n* Read in the CSV file, skipping the first 6 rows, using whitespace to separate data, invalid data -99.9 and -99.99:\n\n```python\nimport pandas as pd\n\nweather_csv = 'cetml1659on.dat'\nweather_df = pd.read_csv(weather_csv,\n                         skiprows=6,\n                         sep='\\s+',\n                         na_values=['-99.9', '-99.99']\n                        )\nprint(weather_df.head())\n```\n\nOutput:\n```brainfuck\n      JAN  FEB  MAR  APR   MAY   JUN   JUL   AUG   SEP   OCT  NOV  DEC  YEAR\n1659  3.0  4.0  6.0  7.0  11.0  13.0  16.0  16.0  13.0  10.0  5.0  2.0  8.87\n1660  0.0  4.0  6.0  9.0  11.0  14.0  15.0  16.0  13.0  10.0  6.0  5.0  9.10\n1661  5.0  5.0  6.0  8.0  11.0  14.0  15.0  15.0  13.0  11.0  8.0  6.0  9.78\n1662  5.0  6.0  6.0  8.0  11.0  15.0  15.0  15.0  13.0  11.0  6.0  3.0  9.52\n1663  1.0  1.0  5.0  7.0  10.0  14.0  15.0  15.0  13.0  10.0  7.0  5.0  8.63\n\n```\n\n* Select all data in the January column less that 0, use `len()` so we don't have to count the rows ourself.\n\n```python\nweather_df[weather_df['JAN'] < 0] # Would output all the entries\nlen(weather_df[weather_df['JAN'] < 0]) # Just counts the number of rows\n```\n\nOutput:\n```brainfuck\n20\n```\n\n* The average of the data can be found using the `.mean()` method:\n\n```python\nweather_df['JUN'].mean()\n```\n\nOutput:\n```brainfuck\n14.325977653631282\n```\n."
    },
    {
      "metadata": {},
      "cell_type": "markdown",
      "source": "## Key Points\n* Pandas provides the `read_csv()` function for reading in CSV files.\n* Although it saves us a lot of work the syntax can be quite tricky."
    }
  ],
  "metadata": {
    "kernelspec": {
      "name": "python3",
      "display_name": "Python 3",
      "language": "python"
    },
    "language_info": {
      "mimetype": "text/x-python",
      "nbconvert_exporter": "python",
      "name": "python",
      "pygments_lexer": "ipython3",
      "version": "3.5.4",
      "file_extension": ".py",
      "codemirror_mode": {
        "version": 3,
        "name": "ipython"
      }
    }
  },
  "nbformat": 4,
  "nbformat_minor": 2
}