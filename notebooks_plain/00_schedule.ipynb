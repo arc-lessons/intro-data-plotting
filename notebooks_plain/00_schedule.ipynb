{
  "cells": [
    {
      "metadata": {
        "slideshow": {
          "slide_type": "slide"
        }
      },
      "cell_type": "markdown",
      "source": "# Introduction to working with data and plotting\n\nThis lesson introduces some techniques for working with data sets and producing plots. It covers:\n* A brief introduction to Jupyter notebooks.\n* Introduction to NumPy.\n* Introduction to Pandas.\n* Introduction to matplotlib."
    },
    {
      "metadata": {
        "slideshow": {
          "slide_type": "slide"
        }
      },
      "cell_type": "markdown",
      "source": "## Prerequisites\n\nIn order to complete the lesson you should be familar with the content of the course:\n* Introduction to Python"
    },
    {
      "metadata": {
        "slideshow": {
          "slide_type": "slide"
        }
      },
      "cell_type": "markdown",
      "source": "## Schedule\nApproximate timings for the lesson:\n\n| Time | Episode | Description |\n|---|---|---|\n| 0:00 | [Jupyter Notebooks](./01_jupyter.ipynb) | How to use a jupyter notebook |\n| 0:00 | [NumPy Introduction](./02_numpy_pt1.ipynb) | An introduction to NumPy |\n| 0:25 | [Tuples, dicts ...](./03_interlude.ipynb) | Interlude: List like structures in Python |\n| 0:40 | [More NumPy](./03_numpy_pt2.ipynb) | More features of NumPy |\n| 1:00 | [Plotting with NumPy](./03_plotting.ipynb) | How to plot with NumPy |\n| 1:30 | [Pandas Introduction](./04_pandas_pt1.ipynb) | An introduction to pandas |\n| 1:50 | [Reading a file with pandas](./05_pandas_pt2.ipynb) | Reading data into pandas |\n| 2:00 | [Plotting with pandas](./06_matplotlib_pt1.ipynb) | More plots using matplotlib with pandas |\n| 2:30 | [Exploring matplotlib's features](./07_matplotlib_pt2.ipynb) | A tour of some of the feature of matplotlib |\n| 3:00 | Finish | |"
    },
    {
      "metadata": {
        "slideshow": {
          "slide_type": "subslide"
        }
      },
      "cell_type": "markdown",
      "source": "## Setup:\n\nLog on to [notebooks.azure.com](https://notebooks.azure.com), clone the [lesson library](https://notebooks.azure.com/jgrant/projects/intro-data-plotting) and click `Run on Free ...` to start the lesson."
    }
  ],
  "metadata": {
    "celltoolbar": "Slideshow",
    "kernelspec": {
      "name": "python3",
      "display_name": "Python 3",
      "language": "python"
    },
    "language_info": {
      "mimetype": "text/x-python",
      "nbconvert_exporter": "python",
      "name": "python",
      "pygments_lexer": "ipython3",
      "version": "3.5.4",
      "file_extension": ".py",
      "codemirror_mode": {
        "version": 3,
        "name": "ipython"
      }
    }
  },
  "nbformat": 4,
  "nbformat_minor": 2
}