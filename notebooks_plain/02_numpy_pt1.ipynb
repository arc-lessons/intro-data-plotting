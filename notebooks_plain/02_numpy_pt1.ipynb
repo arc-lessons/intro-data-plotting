{
  "cells": [
    {
      "metadata": {},
      "cell_type": "markdown",
      "source": "# Introduction to NumPy"
    },
    {
      "metadata": {},
      "cell_type": "markdown",
      "source": "## Overview\n- **Teaching:** 15 min\n- **Exercises:** 10 min\n\n**Questions**\n* What is NumPy?\n* Why should I use it?\n\n**Objectives**\n* Use NumPy to convert lists to NumPy arrays.\n* Use NumPy to create arrays from scratch.\n* Manipulate and reshape NumPy arrays."
    },
    {
      "metadata": {},
      "cell_type": "markdown",
      "source": "NumPy ('Numerical Python') is **the** standard module for doing numerical work in Python. Its main feature is its array data type which allows very compact and efficient storage of homogenous (of the same type) data\n\nThere is a standard convention for importing `numpy`, and that is as `np`:"
    },
    {
      "metadata": {
        "trusted": false
      },
      "cell_type": "code",
      "source": "import numpy as np",
      "execution_count": 1,
      "outputs": []
    },
    {
      "metadata": {},
      "cell_type": "markdown",
      "source": "Now that we have access to the `numpy` package we can start using its features."
    },
    {
      "metadata": {},
      "cell_type": "markdown",
      "source": "## Info: Documentation\nAs you go through this material, you may find it useful to refer to the [NumPy documentation](https://docs.scipy.org/doc/numpy/), particularly the [array objects](https://docs.scipy.org/doc/numpy/reference/arrays.html) section."
    },
    {
      "metadata": {},
      "cell_type": "markdown",
      "source": "## Creating arrays from lists\n\nIn many ways a NumPy array can be treated like a standard Python `list` and much of the way you interact with it is identical. Given a list, you can create an array as follows:"
    },
    {
      "metadata": {
        "trusted": false
      },
      "cell_type": "code",
      "source": "python_list = [1, 2, 3, 4, 5, 6, 7, 8]\nnumpy_array = np.array(python_list)\nprint(numpy_array)",
      "execution_count": 2,
      "outputs": [
        {
          "name": "stdout",
          "output_type": "stream",
          "text": "[1 2 3 4 5 6 7 8]\n"
        }
      ]
    },
    {
      "metadata": {
        "trusted": false
      },
      "cell_type": "code",
      "source": "# ndim give the number of dimensions\nprint(numpy_array.ndim)",
      "execution_count": 3,
      "outputs": [
        {
          "data": {
            "text/plain": "1"
          },
          "execution_count": 3,
          "metadata": {},
          "output_type": "execute_result"
        }
      ]
    },
    {
      "metadata": {
        "trusted": false
      },
      "cell_type": "code",
      "source": "# the shape of an array is a tuple of its length in each dimension. In this case it is only 1-dimensional\nprint(numpy_array.shape)",
      "execution_count": 4,
      "outputs": [
        {
          "data": {
            "text/plain": "(8,)"
          },
          "execution_count": 4,
          "metadata": {},
          "output_type": "execute_result"
        }
      ]
    },
    {
      "metadata": {
        "trusted": false
      },
      "cell_type": "code",
      "source": "# as in standard Python, len() gives a sensible answer\nprint(len(numpy_array))",
      "execution_count": 5,
      "outputs": [
        {
          "data": {
            "text/plain": "8"
          },
          "execution_count": 5,
          "metadata": {},
          "output_type": "execute_result"
        }
      ]
    },
    {
      "metadata": {
        "trusted": false
      },
      "cell_type": "code",
      "source": "nested_list = [[1, 2, 3], [4, 5, 6]]\ntwo_dim_array = np.array(nested_list)\nprint(two_dim_array)",
      "execution_count": 6,
      "outputs": [
        {
          "name": "stdout",
          "output_type": "stream",
          "text": "[[1 2 3]\n [4 5 6]]\n"
        }
      ]
    },
    {
      "metadata": {
        "trusted": false
      },
      "cell_type": "code",
      "source": "print(two_dim_array.ndim)",
      "execution_count": 7,
      "outputs": [
        {
          "data": {
            "text/plain": "2"
          },
          "execution_count": 7,
          "metadata": {},
          "output_type": "execute_result"
        }
      ]
    },
    {
      "metadata": {
        "trusted": false
      },
      "cell_type": "code",
      "source": "print(two_dim_array.shape)",
      "execution_count": 8,
      "outputs": [
        {
          "data": {
            "text/plain": "(2, 3)"
          },
          "execution_count": 8,
          "metadata": {},
          "output_type": "execute_result"
        }
      ]
    },
    {
      "metadata": {},
      "cell_type": "markdown",
      "source": "## Creating arrays from scratch\n\nIt's very common when working with data to not have it already in a Python list but rather to want to create some data from scratch. `numpy` comes with a whole suite of functions for creating arrays. We will now run through some of the most commonly used.\n\nThe first is `np.arange` (meaning \"array range\") which works in a vary similar fashion the the standard Python `range()` function, including how it defaults to starting from zero, doesn't include the number at the top of the range and how it allows you to specify a 'step:"
    },
    {
      "metadata": {
        "trusted": false
      },
      "cell_type": "code",
      "source": "np.arange(10) #0 .. n-1  (!)",
      "execution_count": 9,
      "outputs": [
        {
          "data": {
            "text/plain": "array([0, 1, 2, 3, 4, 5, 6, 7, 8, 9])"
          },
          "execution_count": 9,
          "metadata": {},
          "output_type": "execute_result"
        }
      ]
    },
    {
      "metadata": {
        "trusted": false
      },
      "cell_type": "code",
      "source": "np.arange(1, 9, 2) # start, end (exclusive), step",
      "execution_count": 10,
      "outputs": [
        {
          "data": {
            "text/plain": "array([1, 3, 5, 7])"
          },
          "execution_count": 10,
          "metadata": {},
          "output_type": "execute_result"
        }
      ]
    },
    {
      "metadata": {},
      "cell_type": "markdown",
      "source": "Next up is the `np.linspace` (meaning \"linear space\") which generates a given floating point numbers starting from the first argument up to the second argument. The third argument defines how many numbers to create:"
    },
    {
      "metadata": {
        "trusted": false
      },
      "cell_type": "code",
      "source": "np.linspace(0, 1, 6)   # start, end, num-points",
      "execution_count": 11,
      "outputs": [
        {
          "data": {
            "text/plain": "array([0. , 0.2, 0.4, 0.6, 0.8, 1. ])"
          },
          "execution_count": 11,
          "metadata": {},
          "output_type": "execute_result"
        }
      ]
    },
    {
      "metadata": {},
      "cell_type": "markdown",
      "source": "Note how it included the end point unlike `arange()`. You can change this feature by using the `endpoint` argument:"
    },
    {
      "metadata": {
        "trusted": false
      },
      "cell_type": "code",
      "source": "np.linspace(0, 1, 5, endpoint=False)",
      "execution_count": 12,
      "outputs": [
        {
          "data": {
            "text/plain": "array([0. , 0.2, 0.4, 0.6, 0.8])"
          },
          "execution_count": 12,
          "metadata": {},
          "output_type": "execute_result"
        }
      ]
    },
    {
      "metadata": {},
      "cell_type": "markdown",
      "source": "`np.ones` creates an n-dimensional array filled with the value `1.0`. The argument you give to the function defines the shape of the array:"
    },
    {
      "metadata": {
        "trusted": false
      },
      "cell_type": "code",
      "source": "np.ones((3, 3))  # reminder: (3, 3) is a tuple",
      "execution_count": 13,
      "outputs": [
        {
          "data": {
            "text/plain": "array([[1., 1., 1.],\n       [1., 1., 1.],\n       [1., 1., 1.]])"
          },
          "execution_count": 13,
          "metadata": {},
          "output_type": "execute_result"
        }
      ]
    },
    {
      "metadata": {},
      "cell_type": "markdown",
      "source": "Likewise, you can create an array of any size filled with zeros:"
    },
    {
      "metadata": {
        "trusted": false
      },
      "cell_type": "code",
      "source": "np.zeros((2, 2))",
      "execution_count": 14,
      "outputs": [
        {
          "data": {
            "text/plain": "array([[0., 0.],\n       [0., 0.]])"
          },
          "execution_count": 14,
          "metadata": {},
          "output_type": "execute_result"
        }
      ]
    },
    {
      "metadata": {},
      "cell_type": "markdown",
      "source": "The `np.eye` (referring to the matematical identity matrix, commonly labelled as `I`) creates a square matrix of a given size with `1.0` on the diagonal and `0.0` elsewhere:"
    },
    {
      "metadata": {
        "trusted": false
      },
      "cell_type": "code",
      "source": "np.eye(3)",
      "execution_count": 15,
      "outputs": [
        {
          "data": {
            "text/plain": "array([[1., 0., 0.],\n       [0., 1., 0.],\n       [0., 0., 1.]])"
          },
          "execution_count": 15,
          "metadata": {},
          "output_type": "execute_result"
        }
      ]
    },
    {
      "metadata": {},
      "cell_type": "markdown",
      "source": "The `np.diag` creates a square matrix with the given values on the diagonal and `0.0` elsewhere:"
    },
    {
      "metadata": {
        "trusted": false
      },
      "cell_type": "code",
      "source": "np.diag([1, 2, 3, 4])",
      "execution_count": 16,
      "outputs": [
        {
          "data": {
            "text/plain": "array([[1, 0, 0, 0],\n       [0, 2, 0, 0],\n       [0, 0, 3, 0],\n       [0, 0, 0, 4]])"
          },
          "execution_count": 16,
          "metadata": {},
          "output_type": "execute_result"
        }
      ]
    },
    {
      "metadata": {},
      "cell_type": "markdown",
      "source": "Finally, you can fill an array with random numbers:"
    },
    {
      "metadata": {
        "trusted": false
      },
      "cell_type": "code",
      "source": "np.random.rand(4)  # uniform in [0, 1]",
      "execution_count": 17,
      "outputs": [
        {
          "data": {
            "text/plain": "array([0.10694928, 0.88985274, 0.63606749, 0.59386516])"
          },
          "execution_count": 17,
          "metadata": {},
          "output_type": "execute_result"
        }
      ]
    },
    {
      "metadata": {
        "trusted": false
      },
      "cell_type": "code",
      "source": "np.random.randn(4)  # Gaussian or normally distributed",
      "execution_count": 18,
      "outputs": [
        {
          "data": {
            "text/plain": "array([-1.81972346, -0.13515826,  1.95490428,  0.70545204])"
          },
          "execution_count": 18,
          "metadata": {},
          "output_type": "execute_result"
        }
      ]
    },
    {
      "metadata": {},
      "cell_type": "markdown",
      "source": "Try executing these cells multiple times and notice how you get a different result each time."
    },
    {
      "metadata": {},
      "cell_type": "markdown",
      "source": "## Pen: print()\nIn each of these examples we have omitted the `print()`.  How does including it change the output of the cell?"
    },
    {
      "metadata": {},
      "cell_type": "markdown",
      "source": "## Exercise: Different arrays\n- Create at least one one dimensional array with each of `arange`, `linspace` and `ones`.\n- Create at least one two dimensional array with each of  `zeros`, `eye` and `diag`.\n- Create at least two arrays with different types of random numbers (eg. uniform and Gaussian random numbers).\n- Look at the function `np.empty`. What does it do? When might this be useful?"
    },
    {
      "metadata": {},
      "cell_type": "markdown",
      "source": "## Solution: Different arrays\n\n* We will make each array one dimensional, with three values for `arange`, `linspace` and `ones`:\n```python\nnp.arange(3)\nnp.linspace(0,1,3)\nnp.ones(3)\n```\n* We will make each array two dimensional, with three values in each dimension for `zeros`, `eye` and `diag`:\n```python\nnp.zeros((3,3))\nnp.eye(3)\nnp.diag(np.arange(1,4))\n```\n* We will make each array one dimensional, with three values for `random.rand` (uniform random numbers) and `random.randn` (Gaussian):\n```python\nnp.random.rand(3)\nnp.random.randn(3)\n```\n* `np.empty` creates an array of given size eg: `np.empty(3)` with uninitialised memory (seemingly random values). This is **NOT** useful and can cause errors if these uninitialised values are used accidentally in a calculation. If you wish to allocate a NumPy array, but not set numerical values, you might use `np.ones(3)*np.nan` to fill an appropriately sized array with `np.nan` the not a number value. This will now cause errors if the value is not set correctly, or at least be obvious if it is used in a calculation. See [NaN](https://en.wikipedia.org/wiki/NaN) for detailed information.\n\nNotice if you put all these in the same cell you only see the last array, you can either put each array in its own cell, or print each one individually."
    },
    {
      "metadata": {},
      "cell_type": "markdown",
      "source": "## Reshaping arrays\n\nBehind the scenes, a multi-dimensional NumPy `array` is just stored as a linear segment of memory. The fact that it is presented as having more than one dimension is simply a layer on top of that (sometimes called a *view*). This means that we can simply change that interpretive layer and change the shape of an array very quickly (i.e without NumPy having to copy any data around).\n\nThis is mostly done with the `reshape()` method on the array object:"
    },
    {
      "metadata": {
        "trusted": false
      },
      "cell_type": "code",
      "source": "my_array = np.arange(16)\nmy_array",
      "execution_count": 19,
      "outputs": [
        {
          "data": {
            "text/plain": "array([ 0,  1,  2,  3,  4,  5,  6,  7,  8,  9, 10, 11, 12, 13, 14, 15])"
          },
          "execution_count": 19,
          "metadata": {},
          "output_type": "execute_result"
        }
      ]
    },
    {
      "metadata": {
        "trusted": false
      },
      "cell_type": "code",
      "source": "my_array.shape",
      "execution_count": 20,
      "outputs": [
        {
          "data": {
            "text/plain": "(16,)"
          },
          "execution_count": 20,
          "metadata": {},
          "output_type": "execute_result"
        }
      ]
    },
    {
      "metadata": {
        "trusted": false
      },
      "cell_type": "code",
      "source": "my_array.reshape((2, 8))",
      "execution_count": 21,
      "outputs": [
        {
          "data": {
            "text/plain": "array([[ 0,  1,  2,  3,  4,  5,  6,  7],\n       [ 8,  9, 10, 11, 12, 13, 14, 15]])"
          },
          "execution_count": 21,
          "metadata": {},
          "output_type": "execute_result"
        }
      ]
    },
    {
      "metadata": {
        "trusted": false
      },
      "cell_type": "code",
      "source": "my_array.reshape((4, 4))",
      "execution_count": 22,
      "outputs": [
        {
          "data": {
            "text/plain": "array([[ 0,  1,  2,  3],\n       [ 4,  5,  6,  7],\n       [ 8,  9, 10, 11],\n       [12, 13, 14, 15]])"
          },
          "execution_count": 22,
          "metadata": {},
          "output_type": "execute_result"
        }
      ]
    },
    {
      "metadata": {},
      "cell_type": "markdown",
      "source": "Note that if you check, `my_array.shape` will still return `(16,)` as `reshaped` is simply a *view* on the original data, it hasn't actually *changed* it. If you want to edit the original object in-place then you can use the `resize()` method.\n\nYou can also transpose an array using the `transpose()` method which mirrors the array along its diagonal:"
    },
    {
      "metadata": {
        "trusted": false
      },
      "cell_type": "code",
      "source": "my_array.reshape((2, 8)).transpose()",
      "execution_count": 23,
      "outputs": [
        {
          "data": {
            "text/plain": "array([[ 0,  8],\n       [ 1,  9],\n       [ 2, 10],\n       [ 3, 11],\n       [ 4, 12],\n       [ 5, 13],\n       [ 6, 14],\n       [ 7, 15]])"
          },
          "execution_count": 23,
          "metadata": {},
          "output_type": "execute_result"
        }
      ]
    },
    {
      "metadata": {
        "trusted": false
      },
      "cell_type": "code",
      "source": "my_array.reshape((4,4)).transpose()",
      "execution_count": 24,
      "outputs": [
        {
          "data": {
            "text/plain": "array([[ 0,  4,  8, 12],\n       [ 1,  5,  9, 13],\n       [ 2,  6, 10, 14],\n       [ 3,  7, 11, 15]])"
          },
          "execution_count": 24,
          "metadata": {},
          "output_type": "execute_result"
        }
      ]
    },
    {
      "metadata": {},
      "cell_type": "markdown",
      "source": "## Exercise: An array puzzle\n\nUsing the NumPy [documentation](https://docs.scipy.org/doc/numpy/reference/arrays.ndarray.html), create, **in one line**, a NumPy array which looks like:\n\n```python\n[10,  60,  20,  70,  30,  80,  40,  90,  50, 100]\n```\n\nHint: you might need to use `transpose()`, `reshape()` and `arange()` as well as other functions from the \"Shape manipulation\" section of the documentation. Can you find a method which uses fewer than 4 function calls?"
    },
    {
      "metadata": {},
      "cell_type": "markdown",
      "source": "## Solution: An array puzzle\nOne solution using 4 founction calls is:\n```python\nnp.arange(10,101,10).reshape(2,5).transpose().flatten()\n```\n\nA one line solution which only uses one function call is:\n```python\nnp.array([10,  60,  20,  70,  30,  80,  40,  90,  50, 100])\n```\nAlthough not in the spirit of the puzzle exercise, it if far easier to see what is happening for this small array.\nOf course for larger arrays this would be impractical."
    },
    {
      "metadata": {},
      "cell_type": "markdown",
      "source": "## Key Points\n* `np.array` can convert Python lists to NumPy arrays.\n* NumPy gives many functions for initialising arrays, like `arange`, `linspace`, `ones` and `zeros`.\n* NumPy arrays can be reshaped and resized using the `reshape` and `resize` functions."
    }
  ],
  "metadata": {
    "kernelspec": {
      "name": "python3",
      "display_name": "Python 3",
      "language": "python"
    },
    "language_info": {
      "mimetype": "text/x-python",
      "nbconvert_exporter": "python",
      "name": "python",
      "pygments_lexer": "ipython3",
      "version": "3.5.4",
      "file_extension": ".py",
      "codemirror_mode": {
        "version": 3,
        "name": "ipython"
      }
    }
  },
  "nbformat": 4,
  "nbformat_minor": 2
}