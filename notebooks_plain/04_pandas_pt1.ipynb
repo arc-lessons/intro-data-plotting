{
  "cells": [
    {
      "metadata": {
        "collapsed": true
      },
      "cell_type": "markdown",
      "source": "# Introduction to pandas"
    },
    {
      "metadata": {},
      "cell_type": "markdown",
      "source": "## Overview\n- **Teaching:** 20 min\n- **Exercises:** 10 min\n\n**Questions**\n* What is pandas?\n* Why should I use series and data frames?\n\n**Objectives**\n* Use pandas to convert lists to series.\n* Learn about slicing and broadcasting series (and by extension NumPy arrays).\n* Use pandas to convert dicts to data frames."
    },
    {
      "metadata": {
        "collapsed": true
      },
      "cell_type": "markdown",
      "source": "Pandas is a library providing high-performance, easy-to-use data structures and data analysis tools. The core of pandas is its *dataframe* which is essentially a table of data. Pandas provides easy and powerful ways to import data from a variety of sources and export it to just as many. It is also explicitly designed to handle *missing data* elegantly which is a very common problem in data from the real world.\n\nThe offical [pandas documentation](http://pandas.pydata.org/pandas-docs/stable/) is very comprehensive and you will be answer a lot of questions in there, however, it can sometimes be hard to find the right page. Don't be afraid to use Google to find help.\n\nJust like numpy, pandas has a standard convention for importing it:"
    },
    {
      "metadata": {
        "trusted": false
      },
      "cell_type": "code",
      "source": "import pandas as pd",
      "execution_count": 1,
      "outputs": []
    },
    {
      "metadata": {},
      "cell_type": "markdown",
      "source": "We also explicitly import `Series` and `DataFrame` as we will be using them a lot."
    },
    {
      "metadata": {
        "trusted": false
      },
      "cell_type": "code",
      "source": "from pandas import Series, DataFrame",
      "execution_count": 2,
      "outputs": []
    },
    {
      "metadata": {},
      "cell_type": "markdown",
      "source": "## Series\n\nThe simplest of pandas' data structures is the `Series`. It is a one-dimensional list-like structure.\nLet's create one from a `list`:"
    },
    {
      "metadata": {
        "scrolled": true,
        "trusted": false
      },
      "cell_type": "code",
      "source": "Series([14, 7, 3, -7, 8])",
      "execution_count": 3,
      "outputs": [
        {
          "data": {
            "text/plain": "0    14\n1     7\n2     3\n3    -7\n4     8\ndtype: int64"
          },
          "execution_count": 3,
          "metadata": {},
          "output_type": "execute_result"
        }
      ]
    },
    {
      "metadata": {},
      "cell_type": "markdown",
      "source": "There are three main components to this output.\nThe first column (`0`, `2`, etc.) is the index, by default this is numbers each row starting from zero.\nThe second column is our data, stored i the same order we entered it in our list.\nFinally at the bottom there is the `dtype` which stands for 'data type' which is telling us that all our data is being stored as a 64-bit integer.\nUsually you can ignore the `dtype` until you start doing more advanced things.\n\nWe previously came across `dtype`s when learing about NumPy. This is because `pandas` uses NumPy as its underlying library. A `pandas.Series` is essentially a `np.array` with some extra features wrapped around it.\n\nIn the first example above we allowed pandas to automatically create an index for our `Series` (this is the `0`, `1`, `2`, etc. in the left column) but often you will want to specify one yourself"
    },
    {
      "metadata": {
        "trusted": false
      },
      "cell_type": "code",
      "source": "s = Series([14, 7, 3, -7, 8], index=['a', 'b', 'c', 'd', 'e'])\nprint(s)",
      "execution_count": 4,
      "outputs": [
        {
          "name": "stdout",
          "output_type": "stream",
          "text": "a    14\nb     7\nc     3\nd    -7\ne     8\ndtype: int64\n"
        }
      ]
    },
    {
      "metadata": {},
      "cell_type": "markdown",
      "source": "We can use this index to retrieve individual rows"
    },
    {
      "metadata": {
        "trusted": false
      },
      "cell_type": "code",
      "source": "s['a']",
      "execution_count": 5,
      "outputs": [
        {
          "data": {
            "text/plain": "14"
          },
          "execution_count": 5,
          "metadata": {},
          "output_type": "execute_result"
        }
      ]
    },
    {
      "metadata": {},
      "cell_type": "markdown",
      "source": "to replace values in the series"
    },
    {
      "metadata": {
        "trusted": false
      },
      "cell_type": "code",
      "source": "s['c'] = -1",
      "execution_count": 6,
      "outputs": []
    },
    {
      "metadata": {},
      "cell_type": "markdown",
      "source": "or to get a set of rows"
    },
    {
      "metadata": {
        "scrolled": true,
        "trusted": false
      },
      "cell_type": "code",
      "source": "s[['a', 'c', 'd']]",
      "execution_count": 7,
      "outputs": [
        {
          "data": {
            "text/plain": "a    14\nc    -1\nd    -7\ndtype: int64"
          },
          "execution_count": 7,
          "metadata": {},
          "output_type": "execute_result"
        }
      ]
    },
    {
      "metadata": {},
      "cell_type": "markdown",
      "source": "## Exercise: Make a Series\n\n- Create a Pandas `Series` with 10 or so elements where the indices are years and the values are numbers.\n- Experiment with retrieving elements from the `Series`.\n- Try making another `Series` with duplicate values in the index, what happens when you access those elements?\n- How does a Pandas `Series` differ from a Python `list` or `dict`?"
    },
    {
      "metadata": {},
      "cell_type": "markdown",
      "source": "## Solution: Make a Series\n* Ten elements indexed by ten years:\n\n```python\nmy_series = Series(range(10), index=range(1920, 2020, 10))\nprint('My series:')\nprint(my_series)\nprint()\nprint('My series for 1990:')\nprint(my_series[1990])\nprint()\n```\n\nOutput:\n```brainfuck\nMy series:\n1920    0\n1930    1\n1940    2\n1950    3\n1960    4\n1970    5\n1980    6\n1990    7\n2000    8\n2010    9\ndtype: int64\n\nMy series for 1990:\n7\n```\n\n* Another series with a repeated index:\n\n```python\nanother_series = Series(range(5), index=['a', 'b', 'b', 'c', 'd'])\nprint('Another series, but with duplicated index:')\nprint(another_series)\nprint()\nprint('Another series accessing duplicated index:')\nprint(another_series['b'])\n```\n\nOutput:\n```brainfuck\nAnother series, but with duplicated index:\na    0\nb    1\nb    2\nc    3\nd    4\ndtype: int64\n\nAnother series accessing duplicated index:\nb    1\nb    2\ndtype: int64\n```\n\n* Series are different to lists since they must contain all the same data type.\n* Series are different to dicts since they can have keys with multiple values."
    },
    {
      "metadata": {},
      "cell_type": "markdown",
      "source": "## Series operations\n\nA `Series` is `list`-like in the sense that it is an ordered set of values. It is also `dict`-like since its entries can be accessed via key lookup. One very important way in which is differs is how it allows operations to be done over the whole `Series` in one go, a technique often referred to as 'broadcasting'. It should also be noted, that since these series objects are based on NumPy arrays, any slicing or bradcasting operation in this section can also be applied to a NumPy array, with the same result.\n\nA simple example is wanting to double the value of every entry in a set of data. In standard Python, you might have a list like"
    },
    {
      "metadata": {
        "trusted": false
      },
      "cell_type": "code",
      "source": "my_list = [3, 6, 8, 4, 10]",
      "execution_count": 12,
      "outputs": []
    },
    {
      "metadata": {},
      "cell_type": "markdown",
      "source": "If you wanted to double every entry you might try simply multiplying the list by `2`:"
    },
    {
      "metadata": {
        "trusted": false
      },
      "cell_type": "code",
      "source": "my_list * 2",
      "execution_count": 13,
      "outputs": [
        {
          "data": {
            "text/plain": "[3, 6, 8, 4, 10, 3, 6, 8, 4, 10]"
          },
          "execution_count": 13,
          "metadata": {},
          "output_type": "execute_result"
        }
      ]
    },
    {
      "metadata": {},
      "cell_type": "markdown",
      "source": "but as you can see, that simply duplicated the elements. Instead you would have to use a `for` loop or a list comprehension:"
    },
    {
      "metadata": {
        "trusted": false
      },
      "cell_type": "code",
      "source": "[i * 2 for i in my_list]",
      "execution_count": 14,
      "outputs": [
        {
          "data": {
            "text/plain": "[6, 12, 16, 8, 20]"
          },
          "execution_count": 14,
          "metadata": {},
          "output_type": "execute_result"
        }
      ]
    },
    {
      "metadata": {},
      "cell_type": "markdown",
      "source": "With a pandas `Series`, however, you can perform bulk mathematical operations to the whole series in one go:"
    },
    {
      "metadata": {
        "trusted": false
      },
      "cell_type": "code",
      "source": "my_series = Series(my_list)\nprint(my_series)",
      "execution_count": 15,
      "outputs": [
        {
          "name": "stdout",
          "output_type": "stream",
          "text": "0     3\n1     6\n2     8\n3     4\n4    10\ndtype: int64\n"
        }
      ]
    },
    {
      "metadata": {
        "trusted": false
      },
      "cell_type": "code",
      "source": "my_series * 2",
      "execution_count": 16,
      "outputs": [
        {
          "data": {
            "text/plain": "0     6\n1    12\n2    16\n3     8\n4    20\ndtype: int64"
          },
          "execution_count": 16,
          "metadata": {},
          "output_type": "execute_result"
        }
      ]
    },
    {
      "metadata": {},
      "cell_type": "markdown",
      "source": "As well as bulk modifications, you can perform bulk selections by putting more complex statements in the square brackets:"
    },
    {
      "metadata": {
        "trusted": false
      },
      "cell_type": "code",
      "source": "s[s < 0]  # All negative entries",
      "execution_count": 17,
      "outputs": [
        {
          "data": {
            "text/plain": "c   -1\nd   -7\ndtype: int64"
          },
          "execution_count": 17,
          "metadata": {},
          "output_type": "execute_result"
        }
      ]
    },
    {
      "metadata": {
        "trusted": false
      },
      "cell_type": "code",
      "source": "s[(s * 2) > 4]  # All entries which, when doubled are greater than 4",
      "execution_count": 18,
      "outputs": [
        {
          "data": {
            "text/plain": "a    14\nb     7\ne     8\ndtype: int64"
          },
          "execution_count": 18,
          "metadata": {},
          "output_type": "execute_result"
        }
      ]
    },
    {
      "metadata": {},
      "cell_type": "markdown",
      "source": "These operations work because the `Series` index selection can be passed a series of `True` and `False` values which it then uses to filter the result:"
    },
    {
      "metadata": {
        "trusted": false
      },
      "cell_type": "code",
      "source": "(s * 2) > 4",
      "execution_count": 19,
      "outputs": [
        {
          "data": {
            "text/plain": "a     True\nb     True\nc    False\nd    False\ne     True\ndtype: bool"
          },
          "execution_count": 19,
          "metadata": {},
          "output_type": "execute_result"
        }
      ]
    },
    {
      "metadata": {},
      "cell_type": "markdown",
      "source": "Here you can see that the rows `a`, `b` and `e` are `True` while the others are `False`. Passing this to `s[...]` will only show rows that are `True`."
    },
    {
      "metadata": {},
      "cell_type": "markdown",
      "source": "### Multi-Series operations\n\nIt is also possible to perform operations between two `Series` objects:"
    },
    {
      "metadata": {
        "trusted": false
      },
      "cell_type": "code",
      "source": "s2 = Series([23,5,34,7,5])\ns3 = Series([7, 6, 5,4,3])\ns2 - s3",
      "execution_count": 20,
      "outputs": [
        {
          "data": {
            "text/plain": "0    16\n1    -1\n2    29\n3     3\n4     2\ndtype: int64"
          },
          "execution_count": 20,
          "metadata": {},
          "output_type": "execute_result"
        }
      ]
    },
    {
      "metadata": {},
      "cell_type": "markdown",
      "source": "## Exercise: Broadcasting\n\n- Create two `Series` objects of equal length with no specified index and containing any values you like. Perform some mathematical operations on them and experiment to make sure it works how you think.\n- What happens then you perform an operation on two series which have different lengths? How does this change when you give the series some indices?\n- Using the `Series` from the first exercise with the years for the index, Select all entries with even-numbered years. Also, select all those with odd-numbered years."
    },
    {
      "metadata": {},
      "cell_type": "markdown",
      "source": "## Solution: Broadcasting\n* Two series of the same size with no index broadcast together, element for element.\n\n```python\nseries_a = Series(range(5))\nseries_b = Series(range(5,10))\nprint(series_a*series_b)\n```\n\nOutput:\n```brainfuck\n0     0\n1     6\n2    14\n3    24\n4    36\ndtype: int64\n```\n\n* Two series of the different sizes with no index broadcast together, element for element, until one series runs out of elements, every element after that in the longer series is set to `NaN` (not a number).\n\n```python\nseries_c = Series(range(7))\nprint(series_a + series_c)\n```\n\nOutput:\n```brainfuck\n0    0.0\n1    2.0\n2    4.0\n3    6.0\n4    8.0\n5    NaN\n6    NaN\ndtype: float64\n```\n\n* Two series of the different sizes each with an index broadcast together, index for index, any elements that don't have a matching index are set to `NaN` (not a number).\n\n```python\nseries_d = Series(range(5), index=range(10,60,10))\nseries_e = Series(range(7), index=range(30,100,10))\nprint(series_d + series_e)\n```\n\nOutput:\n```brainfuck\n10    NaN\n20    NaN\n30    2.0\n40    4.0\n50    6.0\n60    NaN\n70    NaN\n80    NaN\n90    NaN\ndtype: float64\n```\n."
    },
    {
      "metadata": {},
      "cell_type": "markdown",
      "source": "## DataFrame\n\nWhile you can think of the `Series` as a one-dimensional list of data, pandas' `DataFrame` is a two (or possibly more) dimensional table of data. You can think of each column in the table as being a `Series`."
    },
    {
      "metadata": {
        "trusted": false
      },
      "cell_type": "code",
      "source": "data = {'city': ['Paris', 'Paris', 'Paris', 'Paris',\n                 'London', 'London', 'London', 'London',\n                 'Rome', 'Rome', 'Rome', 'Rome'],\n        'year': [2001, 2008, 2009, 2010,\n                 2001, 2006, 2011, 2015,\n                 2001, 2006, 2009, 2012],\n        'pop': [2.148, 2.211, 2.234, 2.244,\n                7.322, 7.657, 8.174, 8.615,\n                2.547, 2.627, 2.734, 2.627]}\ndf = DataFrame(data)",
      "execution_count": 23,
      "outputs": []
    },
    {
      "metadata": {},
      "cell_type": "markdown",
      "source": "This has created a `DataFrame` from the dictionary `data`. The keys will become the column headers and the values will be the values in each column. As with the `Series`, an index will be created automatically."
    },
    {
      "metadata": {
        "trusted": false
      },
      "cell_type": "code",
      "source": "df",
      "execution_count": 24,
      "outputs": [
        {
          "data": {
            "text/html": "<div>\n<style scoped>\n    .dataframe tbody tr th:only-of-type {\n        vertical-align: middle;\n    }\n\n    .dataframe tbody tr th {\n        vertical-align: top;\n    }\n\n    .dataframe thead th {\n        text-align: right;\n    }\n</style>\n<table border=\"1\" class=\"dataframe\">\n  <thead>\n    <tr style=\"text-align: right;\">\n      <th></th>\n      <th>city</th>\n      <th>year</th>\n      <th>pop</th>\n    </tr>\n  </thead>\n  <tbody>\n    <tr>\n      <th>0</th>\n      <td>Paris</td>\n      <td>2001</td>\n      <td>2.148</td>\n    </tr>\n    <tr>\n      <th>1</th>\n      <td>Paris</td>\n      <td>2008</td>\n      <td>2.211</td>\n    </tr>\n    <tr>\n      <th>2</th>\n      <td>Paris</td>\n      <td>2009</td>\n      <td>2.234</td>\n    </tr>\n    <tr>\n      <th>3</th>\n      <td>Paris</td>\n      <td>2010</td>\n      <td>2.244</td>\n    </tr>\n    <tr>\n      <th>4</th>\n      <td>London</td>\n      <td>2001</td>\n      <td>7.322</td>\n    </tr>\n    <tr>\n      <th>5</th>\n      <td>London</td>\n      <td>2006</td>\n      <td>7.657</td>\n    </tr>\n    <tr>\n      <th>6</th>\n      <td>London</td>\n      <td>2011</td>\n      <td>8.174</td>\n    </tr>\n    <tr>\n      <th>7</th>\n      <td>London</td>\n      <td>2015</td>\n      <td>8.615</td>\n    </tr>\n    <tr>\n      <th>8</th>\n      <td>Rome</td>\n      <td>2001</td>\n      <td>2.547</td>\n    </tr>\n    <tr>\n      <th>9</th>\n      <td>Rome</td>\n      <td>2006</td>\n      <td>2.627</td>\n    </tr>\n    <tr>\n      <th>10</th>\n      <td>Rome</td>\n      <td>2009</td>\n      <td>2.734</td>\n    </tr>\n    <tr>\n      <th>11</th>\n      <td>Rome</td>\n      <td>2012</td>\n      <td>2.627</td>\n    </tr>\n  </tbody>\n</table>\n</div>",
            "text/plain": "      city  year    pop\n0    Paris  2001  2.148\n1    Paris  2008  2.211\n2    Paris  2009  2.234\n3    Paris  2010  2.244\n4   London  2001  7.322\n5   London  2006  7.657\n6   London  2011  8.174\n7   London  2015  8.615\n8     Rome  2001  2.547\n9     Rome  2006  2.627\n10    Rome  2009  2.734\n11    Rome  2012  2.627"
          },
          "execution_count": 24,
          "metadata": {},
          "output_type": "execute_result"
        }
      ]
    },
    {
      "metadata": {},
      "cell_type": "markdown",
      "source": "Or, if you just want a peek at the data, you can just grab the first few rows with:"
    },
    {
      "metadata": {
        "trusted": false
      },
      "cell_type": "code",
      "source": "df.head(3)",
      "execution_count": 25,
      "outputs": [
        {
          "data": {
            "text/html": "<div>\n<style scoped>\n    .dataframe tbody tr th:only-of-type {\n        vertical-align: middle;\n    }\n\n    .dataframe tbody tr th {\n        vertical-align: top;\n    }\n\n    .dataframe thead th {\n        text-align: right;\n    }\n</style>\n<table border=\"1\" class=\"dataframe\">\n  <thead>\n    <tr style=\"text-align: right;\">\n      <th></th>\n      <th>city</th>\n      <th>year</th>\n      <th>pop</th>\n    </tr>\n  </thead>\n  <tbody>\n    <tr>\n      <th>0</th>\n      <td>Paris</td>\n      <td>2001</td>\n      <td>2.148</td>\n    </tr>\n    <tr>\n      <th>1</th>\n      <td>Paris</td>\n      <td>2008</td>\n      <td>2.211</td>\n    </tr>\n    <tr>\n      <th>2</th>\n      <td>Paris</td>\n      <td>2009</td>\n      <td>2.234</td>\n    </tr>\n  </tbody>\n</table>\n</div>",
            "text/plain": "    city  year    pop\n0  Paris  2001  2.148\n1  Paris  2008  2.211\n2  Paris  2009  2.234"
          },
          "execution_count": 25,
          "metadata": {},
          "output_type": "execute_result"
        }
      ]
    },
    {
      "metadata": {},
      "cell_type": "markdown",
      "source": "Since we passed in a dictionary to the `DataFrame` constructor, the order of the columns will not necessarilly match the order in which you defined them. To enforce a certain order, you can pass a `columns` argument to the constructor giving a list of the columns in the order you want them:"
    },
    {
      "metadata": {
        "trusted": false
      },
      "cell_type": "code",
      "source": "DataFrame(data, columns=['year', 'city', 'pop'])",
      "execution_count": 26,
      "outputs": [
        {
          "data": {
            "text/html": "<div>\n<style scoped>\n    .dataframe tbody tr th:only-of-type {\n        vertical-align: middle;\n    }\n\n    .dataframe tbody tr th {\n        vertical-align: top;\n    }\n\n    .dataframe thead th {\n        text-align: right;\n    }\n</style>\n<table border=\"1\" class=\"dataframe\">\n  <thead>\n    <tr style=\"text-align: right;\">\n      <th></th>\n      <th>year</th>\n      <th>city</th>\n      <th>pop</th>\n    </tr>\n  </thead>\n  <tbody>\n    <tr>\n      <th>0</th>\n      <td>2001</td>\n      <td>Paris</td>\n      <td>2.148</td>\n    </tr>\n    <tr>\n      <th>1</th>\n      <td>2008</td>\n      <td>Paris</td>\n      <td>2.211</td>\n    </tr>\n    <tr>\n      <th>2</th>\n      <td>2009</td>\n      <td>Paris</td>\n      <td>2.234</td>\n    </tr>\n    <tr>\n      <th>3</th>\n      <td>2010</td>\n      <td>Paris</td>\n      <td>2.244</td>\n    </tr>\n    <tr>\n      <th>4</th>\n      <td>2001</td>\n      <td>London</td>\n      <td>7.322</td>\n    </tr>\n    <tr>\n      <th>5</th>\n      <td>2006</td>\n      <td>London</td>\n      <td>7.657</td>\n    </tr>\n    <tr>\n      <th>6</th>\n      <td>2011</td>\n      <td>London</td>\n      <td>8.174</td>\n    </tr>\n    <tr>\n      <th>7</th>\n      <td>2015</td>\n      <td>London</td>\n      <td>8.615</td>\n    </tr>\n    <tr>\n      <th>8</th>\n      <td>2001</td>\n      <td>Rome</td>\n      <td>2.547</td>\n    </tr>\n    <tr>\n      <th>9</th>\n      <td>2006</td>\n      <td>Rome</td>\n      <td>2.627</td>\n    </tr>\n    <tr>\n      <th>10</th>\n      <td>2009</td>\n      <td>Rome</td>\n      <td>2.734</td>\n    </tr>\n    <tr>\n      <th>11</th>\n      <td>2012</td>\n      <td>Rome</td>\n      <td>2.627</td>\n    </tr>\n  </tbody>\n</table>\n</div>",
            "text/plain": "    year    city    pop\n0   2001   Paris  2.148\n1   2008   Paris  2.211\n2   2009   Paris  2.234\n3   2010   Paris  2.244\n4   2001  London  7.322\n5   2006  London  7.657\n6   2011  London  8.174\n7   2015  London  8.615\n8   2001    Rome  2.547\n9   2006    Rome  2.627\n10  2009    Rome  2.734\n11  2012    Rome  2.627"
          },
          "execution_count": 26,
          "metadata": {},
          "output_type": "execute_result"
        }
      ]
    },
    {
      "metadata": {},
      "cell_type": "markdown",
      "source": "When we accessed elements from a `Series` object, it would select an element by row. However, by default `DataFrame`s index primarily by column. You can access any column directly by using square brackets or by named attributes:"
    },
    {
      "metadata": {
        "trusted": false
      },
      "cell_type": "code",
      "source": "df['year']",
      "execution_count": 27,
      "outputs": [
        {
          "data": {
            "text/plain": "0     2001\n1     2008\n2     2009\n3     2010\n4     2001\n5     2006\n6     2011\n7     2015\n8     2001\n9     2006\n10    2009\n11    2012\nName: year, dtype: int64"
          },
          "execution_count": 27,
          "metadata": {},
          "output_type": "execute_result"
        }
      ]
    },
    {
      "metadata": {
        "trusted": false
      },
      "cell_type": "code",
      "source": "df.city",
      "execution_count": 28,
      "outputs": [
        {
          "data": {
            "text/plain": "0      Paris\n1      Paris\n2      Paris\n3      Paris\n4     London\n5     London\n6     London\n7     London\n8       Rome\n9       Rome\n10      Rome\n11      Rome\nName: city, dtype: object"
          },
          "execution_count": 28,
          "metadata": {},
          "output_type": "execute_result"
        }
      ]
    },
    {
      "metadata": {},
      "cell_type": "markdown",
      "source": "Accessing a column like this returns a `Series` which will act in the same way as those we were using earlier.\n\nNote that there is one additional part to this output, `Name: city`. Pandas has remembered that this `Series` was created from the `'city'` column in the `DataFrame`."
    },
    {
      "metadata": {
        "trusted": false
      },
      "cell_type": "code",
      "source": "type(df.city)",
      "execution_count": 29,
      "outputs": [
        {
          "data": {
            "text/plain": "pandas.core.series.Series"
          },
          "execution_count": 29,
          "metadata": {},
          "output_type": "execute_result"
        }
      ]
    },
    {
      "metadata": {
        "trusted": false
      },
      "cell_type": "code",
      "source": "df.city == 'Paris'",
      "execution_count": 30,
      "outputs": [
        {
          "data": {
            "text/plain": "0      True\n1      True\n2      True\n3      True\n4     False\n5     False\n6     False\n7     False\n8     False\n9     False\n10    False\n11    False\nName: city, dtype: bool"
          },
          "execution_count": 30,
          "metadata": {},
          "output_type": "execute_result"
        }
      ]
    },
    {
      "metadata": {},
      "cell_type": "markdown",
      "source": "This has created a new `Series` which has `True` set where the city is Paris and `False` elsewhere.\n\nWe can use filtered `Series` like this to filter the `DataFrame` as a whole. `df.city == 'Paris'` has returned a `Series` containing booleans. Passing it back into `df` as an indexing operation will use it to filter based on the `'city'` column."
    },
    {
      "metadata": {
        "trusted": false
      },
      "cell_type": "code",
      "source": "df[df.city == 'Paris']",
      "execution_count": 31,
      "outputs": [
        {
          "data": {
            "text/html": "<div>\n<style scoped>\n    .dataframe tbody tr th:only-of-type {\n        vertical-align: middle;\n    }\n\n    .dataframe tbody tr th {\n        vertical-align: top;\n    }\n\n    .dataframe thead th {\n        text-align: right;\n    }\n</style>\n<table border=\"1\" class=\"dataframe\">\n  <thead>\n    <tr style=\"text-align: right;\">\n      <th></th>\n      <th>city</th>\n      <th>year</th>\n      <th>pop</th>\n    </tr>\n  </thead>\n  <tbody>\n    <tr>\n      <th>0</th>\n      <td>Paris</td>\n      <td>2001</td>\n      <td>2.148</td>\n    </tr>\n    <tr>\n      <th>1</th>\n      <td>Paris</td>\n      <td>2008</td>\n      <td>2.211</td>\n    </tr>\n    <tr>\n      <th>2</th>\n      <td>Paris</td>\n      <td>2009</td>\n      <td>2.234</td>\n    </tr>\n    <tr>\n      <th>3</th>\n      <td>Paris</td>\n      <td>2010</td>\n      <td>2.244</td>\n    </tr>\n  </tbody>\n</table>\n</div>",
            "text/plain": "    city  year    pop\n0  Paris  2001  2.148\n1  Paris  2008  2.211\n2  Paris  2009  2.234\n3  Paris  2010  2.244"
          },
          "execution_count": 31,
          "metadata": {},
          "output_type": "execute_result"
        }
      ]
    },
    {
      "metadata": {},
      "cell_type": "markdown",
      "source": "You can then carry on and grab another column after that filter:"
    },
    {
      "metadata": {
        "trusted": false
      },
      "cell_type": "code",
      "source": "df[df.city == 'Paris'].year",
      "execution_count": 32,
      "outputs": [
        {
          "data": {
            "text/plain": "0    2001\n1    2008\n2    2009\n3    2010\nName: year, dtype: int64"
          },
          "execution_count": 32,
          "metadata": {},
          "output_type": "execute_result"
        }
      ]
    },
    {
      "metadata": {},
      "cell_type": "markdown",
      "source": "If you want to select a **row** from a `DataFrame` then you can use the `.loc` attribute which allows you to pass index values like:"
    },
    {
      "metadata": {
        "trusted": false
      },
      "cell_type": "code",
      "source": "df.loc[2]",
      "execution_count": 33,
      "outputs": [
        {
          "data": {
            "text/plain": "city    Paris\nyear     2009\npop     2.234\nName: 2, dtype: object"
          },
          "execution_count": 33,
          "metadata": {},
          "output_type": "execute_result"
        }
      ]
    },
    {
      "metadata": {
        "scrolled": true,
        "trusted": false
      },
      "cell_type": "code",
      "source": "df.loc[2]['city']",
      "execution_count": 34,
      "outputs": [
        {
          "data": {
            "text/plain": "'Paris'"
          },
          "execution_count": 34,
          "metadata": {},
          "output_type": "execute_result"
        }
      ]
    },
    {
      "metadata": {},
      "cell_type": "markdown",
      "source": "## Adding new columns\n\nNew columns can be added to a `DataFrame` simply by assigning them by index (as you would for a Python `dict`) and can be deleted with the `del` keyword in the same way:"
    },
    {
      "metadata": {
        "trusted": false
      },
      "cell_type": "code",
      "source": "df['continental'] = (df.city != 'London')\ndf",
      "execution_count": 38,
      "outputs": [
        {
          "data": {
            "text/html": "<div>\n<style scoped>\n    .dataframe tbody tr th:only-of-type {\n        vertical-align: middle;\n    }\n\n    .dataframe tbody tr th {\n        vertical-align: top;\n    }\n\n    .dataframe thead th {\n        text-align: right;\n    }\n</style>\n<table border=\"1\" class=\"dataframe\">\n  <thead>\n    <tr style=\"text-align: right;\">\n      <th></th>\n      <th>city</th>\n      <th>year</th>\n      <th>pop</th>\n      <th>continental</th>\n    </tr>\n  </thead>\n  <tbody>\n    <tr>\n      <th>0</th>\n      <td>Paris</td>\n      <td>2001</td>\n      <td>2.148</td>\n      <td>True</td>\n    </tr>\n    <tr>\n      <th>1</th>\n      <td>Paris</td>\n      <td>2008</td>\n      <td>2.211</td>\n      <td>True</td>\n    </tr>\n    <tr>\n      <th>2</th>\n      <td>Paris</td>\n      <td>2009</td>\n      <td>2.234</td>\n      <td>True</td>\n    </tr>\n    <tr>\n      <th>3</th>\n      <td>Paris</td>\n      <td>2010</td>\n      <td>2.244</td>\n      <td>True</td>\n    </tr>\n    <tr>\n      <th>4</th>\n      <td>London</td>\n      <td>2001</td>\n      <td>7.322</td>\n      <td>False</td>\n    </tr>\n    <tr>\n      <th>5</th>\n      <td>London</td>\n      <td>2006</td>\n      <td>7.657</td>\n      <td>False</td>\n    </tr>\n    <tr>\n      <th>6</th>\n      <td>London</td>\n      <td>2011</td>\n      <td>8.174</td>\n      <td>False</td>\n    </tr>\n    <tr>\n      <th>7</th>\n      <td>London</td>\n      <td>2015</td>\n      <td>8.615</td>\n      <td>False</td>\n    </tr>\n    <tr>\n      <th>8</th>\n      <td>Rome</td>\n      <td>2001</td>\n      <td>2.547</td>\n      <td>True</td>\n    </tr>\n    <tr>\n      <th>9</th>\n      <td>Rome</td>\n      <td>2006</td>\n      <td>2.627</td>\n      <td>True</td>\n    </tr>\n    <tr>\n      <th>10</th>\n      <td>Rome</td>\n      <td>2009</td>\n      <td>2.734</td>\n      <td>True</td>\n    </tr>\n    <tr>\n      <th>11</th>\n      <td>Rome</td>\n      <td>2012</td>\n      <td>2.627</td>\n      <td>True</td>\n    </tr>\n  </tbody>\n</table>\n</div>",
            "text/plain": "      city  year    pop  continental\n0    Paris  2001  2.148         True\n1    Paris  2008  2.211         True\n2    Paris  2009  2.234         True\n3    Paris  2010  2.244         True\n4   London  2001  7.322        False\n5   London  2006  7.657        False\n6   London  2011  8.174        False\n7   London  2015  8.615        False\n8     Rome  2001  2.547         True\n9     Rome  2006  2.627         True\n10    Rome  2009  2.734         True\n11    Rome  2012  2.627         True"
          },
          "execution_count": 38,
          "metadata": {},
          "output_type": "execute_result"
        }
      ]
    },
    {
      "metadata": {
        "trusted": false
      },
      "cell_type": "code",
      "source": "del df['continental']",
      "execution_count": 39,
      "outputs": []
    },
    {
      "metadata": {},
      "cell_type": "markdown",
      "source": "## Exercise: Making your own dataframe\n- Create the `DataFrame` containing the census data for the three cities as we did above.\n- Select the data for the year 2001. Which city had the smallest population that year?\n- Find all the cities which had a population smaller than 2.6 million."
    },
    {
      "metadata": {},
      "cell_type": "markdown",
      "source": "## Solution: Making your own dataframe\n* To setup the dataframe as before:\n\n```python\ndata = {'city': ['Paris', 'Paris', 'Paris', 'Paris',\n                 'London', 'London', 'London', 'London',\n                 'Rome', 'Rome', 'Rome', 'Rome'],\n        'year': [2001, 2008, 2009, 2010,\n                 2001, 2006, 2011, 2015,\n                 2001, 2006, 2009, 2012],\n        'pop': [2.148, 2.211, 2.234, 2.244,\n                7.322, 7.657, 8.174, 8.615,\n                2.547, 2.627, 2.734, 2.627]}\ndf = DataFrame(data)\n```\n\nOutput: (no output)\n\n* To select the data for the year 2001:\n\n```python\nprint(df[df['year'] == 2001])\n```\n\nOutput:\n```brainfuck\n     city  year    pop\n0   Paris  2001  2.148\n4  London  2001  7.322\n8    Rome  2001  2.547\n```\n* To find all cities with population less than 2.6 million:\n\n```python\nprint(df[df['pop'] < 2.6].city)\n```\n\nOutput:\n```brainfuck\n0    Paris\n1    Paris\n2    Paris\n3    Paris\n8     Rome\nName: city, dtype: object\n```\n."
    },
    {
      "metadata": {},
      "cell_type": "markdown",
      "source": "## Key Points\n* `Series` converts lists to pandas series.\n* Series can be sliced and broadcast together.\n* Pandas is a wrapper around NumPy.\n* By extension NumPy arrays can be sliced and broadcast together in the same way.\n* `DataFrame` converts dicts to pandas data frames."
    }
  ],
  "metadata": {
    "kernelspec": {
      "name": "python3",
      "display_name": "Python 3",
      "language": "python"
    },
    "language_info": {
      "mimetype": "text/x-python",
      "nbconvert_exporter": "python",
      "name": "python",
      "file_extension": ".py",
      "version": "3.5.4",
      "pygments_lexer": "ipython3",
      "codemirror_mode": {
        "version": 3,
        "name": "ipython"
      }
    }
  },
  "nbformat": 4,
  "nbformat_minor": 2
}